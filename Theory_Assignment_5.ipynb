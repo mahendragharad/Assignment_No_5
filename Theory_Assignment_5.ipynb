{
  "nbformat": 4,
  "nbformat_minor": 0,
  "metadata": {
    "colab": {
      "provenance": []
    },
    "kernelspec": {
      "name": "python3",
      "display_name": "Python 3"
    },
    "language_info": {
      "name": "python"
    }
  },
  "cells": [
    {
      "cell_type": "markdown",
      "source": [
        "**1. What does an empty dictionary&#39;s code look like?**"
      ],
      "metadata": {
        "id": "unvnnXJYlBdm"
      }
    },
    {
      "cell_type": "code",
      "source": [
        "my_dict = {}"
      ],
      "metadata": {
        "id": "Wc9wo4cWlOwd"
      },
      "execution_count": 2,
      "outputs": []
    },
    {
      "cell_type": "markdown",
      "source": [
        "\n",
        "\n",
        "---\n",
        "\n"
      ],
      "metadata": {
        "id": "lt3d9xbul9Vg"
      }
    },
    {
      "cell_type": "markdown",
      "source": [
        "**2. What is the value of a dictionary value with the key &#39;foo&#39; and the value 42?**"
      ],
      "metadata": {
        "id": "g8m033PVl_Zz"
      }
    },
    {
      "cell_type": "code",
      "source": [
        "my_dictt = { \"foo\" : 42 }"
      ],
      "metadata": {
        "id": "UJEk28zPl-1x"
      },
      "execution_count": 1,
      "outputs": []
    },
    {
      "cell_type": "code",
      "source": [
        "my_dictt.values()"
      ],
      "metadata": {
        "colab": {
          "base_uri": "https://localhost:8080/"
        },
        "id": "SsFHDkDyl7Xx",
        "outputId": "5c991e61-a40b-4c3b-f79e-11ee3a3be3ad"
      },
      "execution_count": 7,
      "outputs": [
        {
          "output_type": "execute_result",
          "data": {
            "text/plain": [
              "dict_values([42])"
            ]
          },
          "metadata": {},
          "execution_count": 7
        }
      ]
    },
    {
      "cell_type": "markdown",
      "source": [
        "**ANS : The value of a dictionary with the key 'foo' and the value 42 would be 42.**"
      ],
      "metadata": {
        "id": "Ybl6XtAEmwUF"
      }
    },
    {
      "cell_type": "markdown",
      "source": [
        "\n",
        "\n",
        "---\n",
        "\n"
      ],
      "metadata": {
        "id": "o4L1Kc27m5JP"
      }
    },
    {
      "cell_type": "markdown",
      "source": [
        "**3. What is the most significant distinction between a dictionary and a list?**"
      ],
      "metadata": {
        "id": "h8RrY5WZm6xL"
      }
    },
    {
      "cell_type": "markdown",
      "source": [
        "**ANS : A dictionary is an unordered collection of key-value pairs, where each key is unique within the dictionary. It uses a hash table implementation, allowing for efficient lookup of values based on their associated keys. Dictionaries are commonly used when you want to store and retrieve values using a specific identifier (key) rather than their position.**\n",
        "\n",
        "**On the other hand, a list is an ordered collection of elements. The elements in a list are indexed starting from 0, allowing for access to individual elements by their position in the list. Lists are useful when you need to maintain the order of elements and iterate over them sequentially.**"
      ],
      "metadata": {
        "id": "g1NU8-F0nF7k"
      }
    },
    {
      "cell_type": "markdown",
      "source": [
        "\n",
        "\n",
        "---\n",
        "\n"
      ],
      "metadata": {
        "id": "8UVlLwVHoGuV"
      }
    },
    {
      "cell_type": "markdown",
      "source": [
        "**4. What happens if you try to access spam[&#39;foo&#39;] if spam is {&#39;bar&#39;: 100}?**"
      ],
      "metadata": {
        "id": "mI38U2xmoId9"
      }
    },
    {
      "cell_type": "code",
      "source": [
        "spam = { \"bar\" : 100 }"
      ],
      "metadata": {
        "id": "Ecd4Ad_mmXLB"
      },
      "execution_count": 8,
      "outputs": []
    },
    {
      "cell_type": "code",
      "source": [
        "spam['foo']"
      ],
      "metadata": {
        "colab": {
          "base_uri": "https://localhost:8080/",
          "height": 165
        },
        "id": "i9inkOgcoWNf",
        "outputId": "57b07677-0d87-4ce8-b945-56518ee1bfa5"
      },
      "execution_count": 9,
      "outputs": [
        {
          "output_type": "error",
          "ename": "KeyError",
          "evalue": "ignored",
          "traceback": [
            "\u001b[0;31m---------------------------------------------------------------------------\u001b[0m",
            "\u001b[0;31mKeyError\u001b[0m                                  Traceback (most recent call last)",
            "\u001b[0;32m<ipython-input-9-9b5a94d1de8d>\u001b[0m in \u001b[0;36m<cell line: 1>\u001b[0;34m()\u001b[0m\n\u001b[0;32m----> 1\u001b[0;31m \u001b[0mspam\u001b[0m\u001b[0;34m[\u001b[0m\u001b[0;34m'foo'\u001b[0m\u001b[0;34m]\u001b[0m\u001b[0;34m\u001b[0m\u001b[0;34m\u001b[0m\u001b[0m\n\u001b[0m",
            "\u001b[0;31mKeyError\u001b[0m: 'foo'"
          ]
        }
      ]
    },
    {
      "cell_type": "markdown",
      "source": [
        "**If you try to access spam['foo'] and spam is {'bar': 100}, you will get a KeyError. This is because the key 'foo' does not exist in the dictionary spam.**"
      ],
      "metadata": {
        "id": "gBGyvJi6oruW"
      }
    },
    {
      "cell_type": "markdown",
      "source": [
        "\n",
        "\n",
        "---\n",
        "\n"
      ],
      "metadata": {
        "id": "Cdh7d25HoupV"
      }
    },
    {
      "cell_type": "markdown",
      "source": [
        "**5. If a dictionary is stored in spam, what is the difference between the expressions &#39;cat&#39; in spam and\n",
        "&#39;cat&#39; in spam.keys()?**"
      ],
      "metadata": {
        "id": "uMpZGEQooyK1"
      }
    },
    {
      "cell_type": "markdown",
      "source": [
        "* **ANS :  'cat' in spam:**\n",
        "\n",
        "**This expression checks if the key 'cat' is present in the dictionary spam. It returns a Boolean value (True or False) indicating whether the key exists as a direct key in the dictionary.**\n",
        "\n",
        "\n",
        "\n",
        "* **'cat' in spam.keys():**\n",
        "\n",
        "**This expression checks if the key 'cat' is present among the keys of the dictionary spam.**"
      ],
      "metadata": {
        "id": "gsxAuR9Aqs1D"
      }
    },
    {
      "cell_type": "markdown",
      "source": [
        "\n",
        "\n",
        "---\n",
        "\n"
      ],
      "metadata": {
        "id": "DWkQ0fm1rfJN"
      }
    },
    {
      "cell_type": "markdown",
      "source": [
        "**6. If a dictionary is stored in spam, what is the difference between the expressions &#39;cat&#39; in spam and\n",
        "&#39;cat&#39; in spam.values()?**\n",
        "\n",
        "* **ANS : 'cat' in spam**\n",
        "\n",
        "\n",
        "**This expression checks if the key 'cat' is present in the dictionary spam. It returns a Boolean value (True or False) indicating whether the key exists as a direct key in the dictionary.**\n",
        "\n",
        "* **&#39;cat&#39; in spam.values()?**\n",
        "\n",
        "**This expression checks if the key 'cat' is present among the values of the dictionary spam.**"
      ],
      "metadata": {
        "id": "6CR90fC-rgl0"
      }
    },
    {
      "cell_type": "markdown",
      "source": [
        "\n",
        "\n",
        "---\n",
        "\n"
      ],
      "metadata": {
        "id": "qi2mnMbqsbwo"
      }
    },
    {
      "cell_type": "markdown",
      "source": [
        "**7. What is a shortcut for the following code?**\n",
        "\n",
        "**if &#39;color&#39; not in spam:**\n",
        "\n",
        "**spam[&#39;color&#39;] = &#39;black&#39;**"
      ],
      "metadata": {
        "id": "h_Iz1-tIse1z"
      }
    },
    {
      "cell_type": "code",
      "source": [
        "spam = { \" key1 \" : \"black\"}"
      ],
      "metadata": {
        "id": "E8WLp_x4owcO"
      },
      "execution_count": 10,
      "outputs": []
    },
    {
      "cell_type": "code",
      "source": [
        "spam.setdefault('color', 'black')"
      ],
      "metadata": {
        "colab": {
          "base_uri": "https://localhost:8080/",
          "height": 36
        },
        "id": "EnaAvMW-uXJ3",
        "outputId": "4930a166-891e-4736-a50c-dcfdfad905de"
      },
      "execution_count": 16,
      "outputs": [
        {
          "output_type": "execute_result",
          "data": {
            "text/plain": [
              "'black'"
            ],
            "application/vnd.google.colaboratory.intrinsic+json": {
              "type": "string"
            }
          },
          "metadata": {},
          "execution_count": 16
        }
      ]
    },
    {
      "cell_type": "code",
      "source": [
        "spam"
      ],
      "metadata": {
        "colab": {
          "base_uri": "https://localhost:8080/"
        },
        "id": "A0V9EHpTuXG4",
        "outputId": "209870c1-8c25-47bc-cf75-e9e2921c5c82"
      },
      "execution_count": 17,
      "outputs": [
        {
          "output_type": "execute_result",
          "data": {
            "text/plain": [
              "{' key1 ': 'black', 'color': 'black'}"
            ]
          },
          "metadata": {},
          "execution_count": 17
        }
      ]
    },
    {
      "cell_type": "markdown",
      "source": [
        "* **spam.setdefault('color', 'black')**\n",
        "\n",
        "**This code checks if the key 'color' exists in the spam dictionary. If the key exists, it returns its value. If the key does not exist, it sets the key 'color' with the default value 'black'. This ensures that the key 'color' is present in the dictionary with the specified default value, but only if it wasn't already present.**"
      ],
      "metadata": {
        "id": "i3eqSzyyujRX"
      }
    },
    {
      "cell_type": "markdown",
      "source": [
        "\n",
        "\n",
        "---\n",
        "\n"
      ],
      "metadata": {
        "id": "9zaCgSt0ux5Y"
      }
    },
    {
      "cell_type": "markdown",
      "source": [
        "**8. How do you &quot;pretty print&quot; dictionary values using which module and function?**\n",
        "\n",
        "**ANS :To \"pretty print\" dictionary values in Python, you can use the pprint module, specifically the pprint() function.**"
      ],
      "metadata": {
        "id": "MNqB4Jspu2_o"
      }
    },
    {
      "cell_type": "code",
      "source": [
        "import pprint\n",
        "\n",
        "my_dict = {'key1': 'mahendra', 'key2': 'gharad', 'key3': 'patil'}\n",
        "pprint.pprint(my_dict)\n"
      ],
      "metadata": {
        "colab": {
          "base_uri": "https://localhost:8080/"
        },
        "id": "ACWcyxKTvNQ-",
        "outputId": "330d3e74-bacb-4e15-9a96-25098f3c9b4f"
      },
      "execution_count": 18,
      "outputs": [
        {
          "output_type": "stream",
          "name": "stdout",
          "text": [
            "{'key1': 'mahendra', 'key2': 'gharad', 'key3': 'patil'}\n"
          ]
        }
      ]
    },
    {
      "cell_type": "markdown",
      "source": [
        "\n",
        "\n",
        "---\n",
        "\n"
      ],
      "metadata": {
        "id": "85dM4eZLvdR-"
      }
    }
  ]
}